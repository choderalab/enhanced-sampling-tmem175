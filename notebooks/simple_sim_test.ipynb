{
 "cells": [
  {
   "cell_type": "code",
   "execution_count": 3,
   "metadata": {},
   "outputs": [],
   "source": [
    "import openmm\n",
    "sys.path.append(\"../../\")\n",
    "from enhanced_sampling import utils, system_building as sb, system_saving as ss"
   ]
  },
  {
   "cell_type": "code",
   "execution_count": 4,
   "metadata": {},
   "outputs": [
    {
     "name": "stdout",
     "output_type": "stream",
     "text": [
      "Loading psf from ../systems/system00/step5_input.psf\n",
      "Loading Charmm params from ../forcefield_data/charmm-params/\n",
      "Loading positions from ../systems/system00/final_frame.cif\n",
      "Loading box vectors from ../systems/system00/sysinfo.dat\n",
      "Setting box size x: 121.162246 A, y: 121.162246 A, z:110.56 A\n"
     ]
    }
   ],
   "source": [
    "input_dict = sb.load_input_dir(\"../systems/system00\", \"../forcefield_data/charmm-params/\")"
   ]
  },
  {
   "cell_type": "code",
   "execution_count": 5,
   "metadata": {},
   "outputs": [],
   "source": [
    "psf = input_dict[\"psf\"]"
   ]
  },
  {
   "cell_type": "code",
   "execution_count": 6,
   "metadata": {},
   "outputs": [
    {
     "data": {
      "text/plain": [
       "<Topology; 5 chains, 31576 residues, 151920 atoms, 121416 bonds>"
      ]
     },
     "execution_count": 6,
     "metadata": {},
     "output_type": "execute_result"
    }
   ],
   "source": [
    "psf.topology"
   ]
  },
  {
   "cell_type": "code",
   "execution_count": 7,
   "metadata": {},
   "outputs": [],
   "source": [
    "cif = input_dict['cif']"
   ]
  },
  {
   "cell_type": "code",
   "execution_count": 8,
   "metadata": {},
   "outputs": [
    {
     "data": {
      "text/plain": [
       "<Topology; 5 chains, 31576 residues, 151920 atoms, 121396 bonds>"
      ]
     },
     "execution_count": 8,
     "metadata": {},
     "output_type": "execute_result"
    }
   ],
   "source": [
    "cif.topology"
   ]
  },
  {
   "cell_type": "code",
   "execution_count": 9,
   "metadata": {},
   "outputs": [],
   "source": [
    "params = input_dict['params']"
   ]
  },
  {
   "cell_type": "code",
   "execution_count": 10,
   "metadata": {},
   "outputs": [
    {
     "data": {
      "text/plain": [
       "<openmm.app.charmmparameterset.CharmmParameterSet at 0x17f731520>"
      ]
     },
     "execution_count": 10,
     "metadata": {},
     "output_type": "execute_result"
    }
   ],
   "source": [
    "params"
   ]
  },
  {
   "cell_type": "code",
   "execution_count": 11,
   "metadata": {},
   "outputs": [],
   "source": [
    "param_dict_with_units = sb.load_simulation_params(\"../sim_params/local_test.yaml\")"
   ]
  },
  {
   "cell_type": "code",
   "execution_count": 12,
   "metadata": {},
   "outputs": [
    {
     "data": {
      "text/plain": [
       "{'hydrogen_mass': Quantity(value=4.0, unit=dalton),\n",
       " 'temperature': Quantity(value=303.15, unit=kelvin),\n",
       " 'friction': Quantity(value=1, unit=/picosecond),\n",
       " 'time_step': Quantity(value=0.002, unit=picosecond),\n",
       " 'pressure': Quantity(value=1, unit=bar),\n",
       " 'surface_tension': 0,\n",
       " 'nonbonded_method': PME,\n",
       " 'constraints': HBonds,\n",
       " 'nsteps': 500000,\n",
       " 'report_freq': 50000,\n",
       " 'chk_freq': 250000,\n",
       " 'traj_freq': 500000,\n",
       " 'virtual_bond': ['resSeq 46 and name CA and chainid 0',\n",
       "  'resSeq 46 and name CA and chainid 1'],\n",
       " 'platform': 'CPU',\n",
       " 'precision': 'mixed'}"
      ]
     },
     "execution_count": 12,
     "metadata": {},
     "output_type": "execute_result"
    }
   ],
   "source": [
    "param_dict_with_units"
   ]
  },
  {
   "cell_type": "code",
   "execution_count": 14,
   "metadata": {},
   "outputs": [
    {
     "data": {
      "text/plain": [
       "openmm.app.forcefield.PME"
      ]
     },
     "execution_count": 14,
     "metadata": {},
     "output_type": "execute_result"
    }
   ],
   "source": [
    "type(param_dict_with_units['nonbonded_method'])"
   ]
  },
  {
   "cell_type": "code",
   "execution_count": 16,
   "metadata": {},
   "outputs": [
    {
     "data": {
      "text/plain": [
       "openmm.app.forcefield.HBonds"
      ]
     },
     "execution_count": 16,
     "metadata": {},
     "output_type": "execute_result"
    }
   ],
   "source": [
    "type(param_dict_with_units['constraints'])"
   ]
  },
  {
   "cell_type": "code",
   "execution_count": 17,
   "metadata": {},
   "outputs": [],
   "source": [
    "system = psf.createSystem(input_dict[\"params\"],\n",
    "                              nonbondedMethod=param_dict_with_units['nonbonded_method'],\n",
    "                              constraints=param_dict_with_units['constraints'],\n",
    "                              removeCMMotion=False,\n",
    "                              hydrogenMass=param_dict_with_units['hydrogen_mass'])"
   ]
  },
  {
   "cell_type": "code",
   "execution_count": 20,
   "metadata": {},
   "outputs": [],
   "source": [
    "integrator = openmm.LangevinMiddleIntegrator(param_dict_with_units['temperature'],\n",
    "                                             param_dict_with_units['friction'],\n",
    "                                             param_dict_with_units['time_step'])\n",
    "\n",
    "barostat = openmm.MonteCarloMembraneBarostat(param_dict_with_units['pressure'],\n",
    "                                         param_dict_with_units['surface_tension'],\n",
    "                                         param_dict_with_units['temperature'],\n",
    "                                         openmm.MonteCarloMembraneBarostat.XYIsotropic,\n",
    "                                         openmm.MonteCarloMembraneBarostat.ZFree\n",
    "                                         )"
   ]
  },
  {
   "cell_type": "code",
   "execution_count": 21,
   "metadata": {},
   "outputs": [
    {
     "data": {
      "text/plain": [
       "8"
      ]
     },
     "execution_count": 21,
     "metadata": {},
     "output_type": "execute_result"
    }
   ],
   "source": [
    "barostat.setFrequency(50)  ## for some reason the __init__ won't accept it as an argument, but this works\n",
    "    ## the default is 25 timesteps, i've set it for 50\n",
    "system.addForce(barostat)"
   ]
  },
  {
   "cell_type": "code",
   "execution_count": 22,
   "metadata": {},
   "outputs": [],
   "source": [
    "platform = sb.get_platform_from_params(param_dict_with_units)"
   ]
  },
  {
   "cell_type": "code",
   "execution_count": 25,
   "metadata": {},
   "outputs": [
    {
     "data": {
      "text/plain": [
       "'CPU'"
      ]
     },
     "execution_count": 25,
     "metadata": {},
     "output_type": "execute_result"
    }
   ],
   "source": [
    "platform.getName()"
   ]
  },
  {
   "cell_type": "code",
   "execution_count": 26,
   "metadata": {},
   "outputs": [],
   "source": [
    "sim = openmm.app.Simulation(psf.topology,\n",
    "                                system=system,\n",
    "                                integrator=integrator,\n",
    "                                platform=platform)"
   ]
  },
  {
   "cell_type": "code",
   "execution_count": 27,
   "metadata": {},
   "outputs": [],
   "source": [
    "sim.context.setPositions(cif.positions)\n",
    "sim.context.setVelocitiesToTemperature(param_dict_with_units['temperature'])"
   ]
  },
  {
   "cell_type": "code",
   "execution_count": null,
   "metadata": {},
   "outputs": [],
   "source": []
  }
 ],
 "metadata": {
  "kernelspec": {
   "display_name": "Python 3 (ipykernel)",
   "language": "python",
   "name": "python3"
  },
  "language_info": {
   "codemirror_mode": {
    "name": "ipython",
    "version": 3
   },
   "file_extension": ".py",
   "mimetype": "text/x-python",
   "name": "python",
   "nbconvert_exporter": "python",
   "pygments_lexer": "ipython3",
   "version": "3.9.13"
  },
  "toc": {
   "base_numbering": 1,
   "nav_menu": {},
   "number_sections": true,
   "sideBar": true,
   "skip_h1_title": false,
   "title_cell": "Table of Contents",
   "title_sidebar": "Contents",
   "toc_cell": false,
   "toc_position": {},
   "toc_section_display": true,
   "toc_window_display": false
  }
 },
 "nbformat": 4,
 "nbformat_minor": 1
}