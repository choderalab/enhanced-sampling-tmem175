{
 "cells": [
  {
   "cell_type": "code",
   "execution_count": 46,
   "metadata": {},
   "outputs": [],
   "source": [
    "import openmm, sys, mdtraj\n",
    "sys.path.append(\"../../\")\n",
    "from enhanced_sampling import utils, system_building as sb, system_saving as ss"
   ]
  },
  {
   "cell_type": "code",
   "execution_count": 84,
   "metadata": {},
   "outputs": [
    {
     "data": {
      "text/plain": [
       "'7.7.0.dev-130124a'"
      ]
     },
     "execution_count": 84,
     "metadata": {},
     "output_type": "execute_result"
    }
   ],
   "source": [
    "openmm.version.full_version"
   ]
  },
  {
   "cell_type": "code",
   "execution_count": 47,
   "metadata": {},
   "outputs": [
    {
     "name": "stdout",
     "output_type": "stream",
     "text": [
      "Loading psf from ../systems/system00/step5_input.psf\n",
      "Loading Charmm params from ../forcefield_data/charmm-params/\n",
      "Loading positions from ../systems/system00/final_frame.cif\n",
      "Loading box vectors from ../systems/system00/sysinfo.dat\n",
      "Setting box size x: 121.162246 A, y: 121.162246 A, z:110.56 A\n"
     ]
    }
   ],
   "source": [
    "input_dict = sb.load_input_dir(\"../systems/system00\", \"../forcefield_data/charmm-params/\")"
   ]
  },
  {
   "cell_type": "code",
   "execution_count": 48,
   "metadata": {},
   "outputs": [],
   "source": [
    "psf = input_dict[\"psf\"]"
   ]
  },
  {
   "cell_type": "code",
   "execution_count": 49,
   "metadata": {},
   "outputs": [
    {
     "data": {
      "text/plain": [
       "<Topology; 5 chains, 31576 residues, 151920 atoms, 121416 bonds>"
      ]
     },
     "execution_count": 49,
     "metadata": {},
     "output_type": "execute_result"
    }
   ],
   "source": [
    "psf.topology"
   ]
  },
  {
   "cell_type": "code",
   "execution_count": 50,
   "metadata": {},
   "outputs": [],
   "source": [
    "cif = input_dict['cif']"
   ]
  },
  {
   "cell_type": "code",
   "execution_count": 51,
   "metadata": {},
   "outputs": [
    {
     "data": {
      "text/plain": [
       "<Topology; 5 chains, 31576 residues, 151920 atoms, 121396 bonds>"
      ]
     },
     "execution_count": 51,
     "metadata": {},
     "output_type": "execute_result"
    }
   ],
   "source": [
    "cif.topology"
   ]
  },
  {
   "cell_type": "code",
   "execution_count": 52,
   "metadata": {},
   "outputs": [],
   "source": [
    "input_pdb = openmm.app.PDBFile(\"/Users/alexpayne/Scientific_Projects/tmem175-allostery-analysis/complete-open-models/20211122-sys06-charmm-gui-extended/openmm/step5_input.pdb\")"
   ]
  },
  {
   "cell_type": "code",
   "execution_count": 53,
   "metadata": {},
   "outputs": [
    {
     "data": {
      "text/plain": [
       "<Topology; 5 chains, 31576 residues, 151920 atoms, 74116 bonds>"
      ]
     },
     "execution_count": 53,
     "metadata": {},
     "output_type": "execute_result"
    }
   ],
   "source": [
    "input_pdb.topology"
   ]
  },
  {
   "cell_type": "code",
   "execution_count": 54,
   "metadata": {},
   "outputs": [],
   "source": [
    "params = input_dict['params']"
   ]
  },
  {
   "cell_type": "code",
   "execution_count": 55,
   "metadata": {},
   "outputs": [
    {
     "data": {
      "text/plain": [
       "<openmm.app.charmmparameterset.CharmmParameterSet at 0x1a435c250>"
      ]
     },
     "execution_count": 55,
     "metadata": {},
     "output_type": "execute_result"
    }
   ],
   "source": [
    "params"
   ]
  },
  {
   "cell_type": "code",
   "execution_count": 56,
   "metadata": {},
   "outputs": [],
   "source": [
    "param_dict_with_units = sb.load_simulation_params(\"../sim_params/local_test.yaml\")"
   ]
  },
  {
   "cell_type": "code",
   "execution_count": 57,
   "metadata": {},
   "outputs": [
    {
     "data": {
      "text/plain": [
       "{'hydrogen_mass': Quantity(value=4.0, unit=dalton),\n",
       " 'temperature': Quantity(value=303.15, unit=kelvin),\n",
       " 'friction': Quantity(value=1, unit=/picosecond),\n",
       " 'time_step': Quantity(value=0.004, unit=picosecond),\n",
       " 'pressure': Quantity(value=1, unit=bar),\n",
       " 'surface_tension': 0,\n",
       " 'nonbonded_method': PME,\n",
       " 'constraints': HBonds,\n",
       " 'nsteps': 500000,\n",
       " 'report_freq': 50000,\n",
       " 'chk_freq': 250000,\n",
       " 'traj_freq': 500000,\n",
       " 'virtual_bond': ['resSeq 46 and name CA and chainid 0',\n",
       "  'resSeq 46 and name CA and chainid 1'],\n",
       " 'platform': 'CPU',\n",
       " 'precision': 'mixed'}"
      ]
     },
     "execution_count": 57,
     "metadata": {},
     "output_type": "execute_result"
    }
   ],
   "source": [
    "param_dict_with_units"
   ]
  },
  {
   "cell_type": "code",
   "execution_count": 58,
   "metadata": {},
   "outputs": [
    {
     "data": {
      "text/plain": [
       "openmm.app.forcefield.PME"
      ]
     },
     "execution_count": 58,
     "metadata": {},
     "output_type": "execute_result"
    }
   ],
   "source": [
    "type(param_dict_with_units['nonbonded_method'])"
   ]
  },
  {
   "cell_type": "code",
   "execution_count": 59,
   "metadata": {},
   "outputs": [
    {
     "data": {
      "text/plain": [
       "openmm.app.forcefield.HBonds"
      ]
     },
     "execution_count": 59,
     "metadata": {},
     "output_type": "execute_result"
    }
   ],
   "source": [
    "type(param_dict_with_units['constraints'])"
   ]
  },
  {
   "cell_type": "code",
   "execution_count": 60,
   "metadata": {},
   "outputs": [],
   "source": [
    "system = psf.createSystem(input_dict[\"params\"],\n",
    "                              nonbondedMethod=param_dict_with_units['nonbonded_method'],\n",
    "                              constraints=param_dict_with_units['constraints'],\n",
    "                              removeCMMotion=False,\n",
    "                              hydrogenMass=param_dict_with_units['hydrogen_mass'])"
   ]
  },
  {
   "cell_type": "code",
   "execution_count": 61,
   "metadata": {},
   "outputs": [],
   "source": [
    "# integrator = openmm.LangevinMiddleIntegrator(param_dict_with_units['temperature'],\n",
    "#                                              param_dict_with_units['friction'],\n",
    "#                                              param_dict_with_units['time_step'])"
   ]
  },
  {
   "cell_type": "code",
   "execution_count": 62,
   "metadata": {},
   "outputs": [],
   "source": [
    "integrator = openmm.LangevinIntegrator(param_dict_with_units['temperature'],\n",
    "                                             param_dict_with_units['friction'],\n",
    "                                             param_dict_with_units['time_step'])"
   ]
  },
  {
   "cell_type": "code",
   "execution_count": null,
   "metadata": {},
   "outputs": [],
   "source": []
  },
  {
   "cell_type": "code",
   "execution_count": 92,
   "metadata": {},
   "outputs": [
    {
     "data": {
      "text/plain": [
       "9"
      ]
     },
     "execution_count": 92,
     "metadata": {},
     "output_type": "execute_result"
    }
   ],
   "source": [
    "barostat = openmm.MonteCarloMembraneBarostat(param_dict_with_units['pressure'],\n",
    "                                         param_dict_with_units['surface_tension'],\n",
    "                                         param_dict_with_units['temperature'],\n",
    "                                         openmm.MonteCarloMembraneBarostat.XYIsotropic,\n",
    "                                         openmm.MonteCarloMembraneBarostat.ZFree\n",
    "                                         )\n",
    "barostat.setFrequency(50)  ## for some reason the __init__ won't accept it as an argument, but this works\n",
    "    ## the default is 25 timesteps, i've set it for 50\n",
    "system.addForce(barostat)"
   ]
  },
  {
   "cell_type": "code",
   "execution_count": 64,
   "metadata": {},
   "outputs": [
    {
     "data": {
      "text/plain": [
       "8"
      ]
     },
     "execution_count": 64,
     "metadata": {},
     "output_type": "execute_result"
    }
   ],
   "source": []
  },
  {
   "cell_type": "code",
   "execution_count": 65,
   "metadata": {},
   "outputs": [],
   "source": [
    "platform = sb.get_platform_from_params(param_dict_with_units)"
   ]
  },
  {
   "cell_type": "code",
   "execution_count": 66,
   "metadata": {},
   "outputs": [
    {
     "data": {
      "text/plain": [
       "'CPU'"
      ]
     },
     "execution_count": 66,
     "metadata": {},
     "output_type": "execute_result"
    }
   ],
   "source": [
    "platform.getName()"
   ]
  },
  {
   "cell_type": "code",
   "execution_count": 67,
   "metadata": {},
   "outputs": [],
   "source": [
    "sim = openmm.app.Simulation(psf.topology,\n",
    "                                system=system,\n",
    "                                integrator=integrator,\n",
    "                                platform=platform)"
   ]
  },
  {
   "cell_type": "code",
   "execution_count": 74,
   "metadata": {},
   "outputs": [],
   "source": [
    "# sim.context.setPositions(cif.positions)\n",
    "sim.context.setPositions(input_pdb.positions)\n",
    "sim.context.setVelocitiesToTemperature(param_dict_with_units['temperature'])"
   ]
  },
  {
   "cell_type": "code",
   "execution_count": 79,
   "metadata": {},
   "outputs": [],
   "source": [
    "_state = sim.context.getState(getVelocities=True)"
   ]
  },
  {
   "cell_type": "code",
   "execution_count": 80,
   "metadata": {},
   "outputs": [
    {
     "data": {
      "text/plain": [
       "Quantity(value=[Vec3(x=12.1162246, y=0.0, z=0.0), Vec3(x=0.0, y=12.1162246, z=0.0), Vec3(x=0.0, y=0.0, z=11.056000000000001)], unit=nanometer)"
      ]
     },
     "execution_count": 80,
     "metadata": {},
     "output_type": "execute_result"
    }
   ],
   "source": [
    "_state.getPeriodicBoxVectors()"
   ]
  },
  {
   "cell_type": "code",
   "execution_count": 71,
   "metadata": {},
   "outputs": [
    {
     "name": "stdout",
     "output_type": "stream",
     "text": [
      "  initial : 273102.865 kcal/mol\n"
     ]
    }
   ],
   "source": [
    "## Run minimization\n",
    "print(\n",
    "    \"  initial : %8.3f kcal/mol\"\n",
    "    % (\n",
    "        sim.context.getState(getEnergy=True).getPotentialEnergy()\n",
    "        / openmm.unit.kilocalories_per_mole\n",
    "    )\n",
    ")"
   ]
  },
  {
   "cell_type": "code",
   "execution_count": 72,
   "metadata": {},
   "outputs": [
    {
     "ename": "OpenMMException",
     "evalue": "Particle coordinate is nan",
     "output_type": "error",
     "traceback": [
      "\u001b[0;31m---------------------------------------------------------------------------\u001b[0m",
      "\u001b[0;31mOpenMMException\u001b[0m                           Traceback (most recent call last)",
      "Cell \u001b[0;32mIn [72], line 1\u001b[0m\n\u001b[0;32m----> 1\u001b[0m \u001b[43msim\u001b[49m\u001b[38;5;241;43m.\u001b[39;49m\u001b[43mminimizeEnergy\u001b[49m\u001b[43m(\u001b[49m\u001b[43m)\u001b[49m\n\u001b[1;32m      2\u001b[0m \u001b[38;5;28mprint\u001b[39m(\n\u001b[1;32m      3\u001b[0m     \u001b[38;5;124m\"\u001b[39m\u001b[38;5;124m  final : \u001b[39m\u001b[38;5;132;01m%8.3f\u001b[39;00m\u001b[38;5;124m kcal/mol\u001b[39m\u001b[38;5;124m\"\u001b[39m\n\u001b[1;32m      4\u001b[0m     \u001b[38;5;241m%\u001b[39m (\n\u001b[0;32m   (...)\u001b[0m\n\u001b[1;32m      7\u001b[0m     )\n\u001b[1;32m      8\u001b[0m )\n",
      "File \u001b[0;32m~/opt/anaconda3/envs/enhanced-sampling-tmem175/lib/python3.9/site-packages/openmm/app/simulation.py:137\u001b[0m, in \u001b[0;36mSimulation.minimizeEnergy\u001b[0;34m(self, tolerance, maxIterations)\u001b[0m\n\u001b[1;32m    123\u001b[0m \u001b[38;5;28;01mdef\u001b[39;00m \u001b[38;5;21mminimizeEnergy\u001b[39m(\u001b[38;5;28mself\u001b[39m, tolerance\u001b[38;5;241m=\u001b[39m\u001b[38;5;241m10\u001b[39m\u001b[38;5;241m*\u001b[39munit\u001b[38;5;241m.\u001b[39mkilojoules_per_mole\u001b[38;5;241m/\u001b[39munit\u001b[38;5;241m.\u001b[39mnanometer, maxIterations\u001b[38;5;241m=\u001b[39m\u001b[38;5;241m0\u001b[39m):\n\u001b[1;32m    124\u001b[0m     \u001b[38;5;124;03m\"\"\"Perform a local energy minimization on the system.\u001b[39;00m\n\u001b[1;32m    125\u001b[0m \n\u001b[1;32m    126\u001b[0m \u001b[38;5;124;03m    Parameters\u001b[39;00m\n\u001b[0;32m   (...)\u001b[0m\n\u001b[1;32m    135\u001b[0m \u001b[38;5;124;03m        to how many iterations it takes.\u001b[39;00m\n\u001b[1;32m    136\u001b[0m \u001b[38;5;124;03m    \"\"\"\u001b[39;00m\n\u001b[0;32m--> 137\u001b[0m     \u001b[43mmm\u001b[49m\u001b[38;5;241;43m.\u001b[39;49m\u001b[43mLocalEnergyMinimizer\u001b[49m\u001b[38;5;241;43m.\u001b[39;49m\u001b[43mminimize\u001b[49m\u001b[43m(\u001b[49m\u001b[38;5;28;43mself\u001b[39;49m\u001b[38;5;241;43m.\u001b[39;49m\u001b[43mcontext\u001b[49m\u001b[43m,\u001b[49m\u001b[43m \u001b[49m\u001b[43mtolerance\u001b[49m\u001b[43m,\u001b[49m\u001b[43m \u001b[49m\u001b[43mmaxIterations\u001b[49m\u001b[43m)\u001b[49m\n",
      "File \u001b[0;32m~/opt/anaconda3/envs/enhanced-sampling-tmem175/lib/python3.9/site-packages/openmm/openmm.py:12538\u001b[0m, in \u001b[0;36mLocalEnergyMinimizer.minimize\u001b[0;34m(context, tolerance, maxIterations)\u001b[0m\n\u001b[1;32m  12523\u001b[0m \u001b[38;5;129m@staticmethod\u001b[39m\n\u001b[1;32m  12524\u001b[0m \u001b[38;5;28;01mdef\u001b[39;00m \u001b[38;5;21mminimize\u001b[39m(context, tolerance\u001b[38;5;241m=\u001b[39m\u001b[38;5;241m10\u001b[39m, maxIterations\u001b[38;5;241m=\u001b[39m\u001b[38;5;241m0\u001b[39m):\n\u001b[1;32m  12525\u001b[0m     \u001b[38;5;124mr\u001b[39m\u001b[38;5;124;03m\"\"\"\u001b[39;00m\n\u001b[1;32m  12526\u001b[0m \u001b[38;5;124;03m    minimize(context, tolerance=10, maxIterations=0)\u001b[39;00m\n\u001b[1;32m  12527\u001b[0m \u001b[38;5;124;03m    Search for a new set of particle positions that represent a local potential energy minimum. On exit, the Context will have been updated with the new positions.\u001b[39;00m\n\u001b[0;32m   (...)\u001b[0m\n\u001b[1;32m  12536\u001b[0m \u001b[38;5;124;03m        the maximum number of iterations to perform. If this is 0, minimation is continued until the results converge without regard to how many iterations it takes. The default value is 0.\u001b[39;00m\n\u001b[1;32m  12537\u001b[0m \u001b[38;5;124;03m    \"\"\"\u001b[39;00m\n\u001b[0;32m> 12538\u001b[0m     \u001b[38;5;28;01mreturn\u001b[39;00m \u001b[43m_openmm\u001b[49m\u001b[38;5;241;43m.\u001b[39;49m\u001b[43mLocalEnergyMinimizer_minimize\u001b[49m\u001b[43m(\u001b[49m\u001b[43mcontext\u001b[49m\u001b[43m,\u001b[49m\u001b[43m \u001b[49m\u001b[43mtolerance\u001b[49m\u001b[43m,\u001b[49m\u001b[43m \u001b[49m\u001b[43mmaxIterations\u001b[49m\u001b[43m)\u001b[49m\n",
      "\u001b[0;31mOpenMMException\u001b[0m: Particle coordinate is nan"
     ]
    }
   ],
   "source": [
    "sim.minimizeEnergy()\n",
    "print(\n",
    "    \"  final : %8.3f kcal/mol\"\n",
    "    % (\n",
    "        sim.context.getState(getEnergy=True).getPotentialEnergy()\n",
    "        / openmm.unit.kilocalories_per_mole\n",
    "    )\n",
    ")"
   ]
  },
  {
   "cell_type": "markdown",
   "metadata": {},
   "source": [
    "# test loading state"
   ]
  },
  {
   "cell_type": "code",
   "execution_count": 87,
   "metadata": {},
   "outputs": [],
   "source": [
    "import bz2\n",
    "input_state_path = \"../systems/system00/state.xml.bz2\"\n",
    "with bz2.open(input_state_path, 'rb') as infile:\n",
    "    state = openmm.XmlSerializer.deserialize(infile.read().decode())\n",
    "sim.context.setState(state)"
   ]
  },
  {
   "cell_type": "code",
   "execution_count": 88,
   "metadata": {},
   "outputs": [
    {
     "name": "stdout",
     "output_type": "stream",
     "text": [
      "  initial : -323575.657 kcal/mol\n"
     ]
    }
   ],
   "source": [
    "## Run minimization\n",
    "print(\n",
    "    \"  initial : %8.3f kcal/mol\"\n",
    "    % (\n",
    "        sim.context.getState(getEnergy=True).getPotentialEnergy()\n",
    "        / openmm.unit.kilocalories_per_mole\n",
    "    )\n",
    ")"
   ]
  },
  {
   "cell_type": "code",
   "execution_count": 89,
   "metadata": {},
   "outputs": [],
   "source": [
    "sim.step(10)"
   ]
  },
  {
   "cell_type": "code",
   "execution_count": 90,
   "metadata": {},
   "outputs": [
    {
     "data": {
      "text/plain": [
       "Quantity(value=[Vec3(x=11.57873269797354, y=0.0, z=0.0), Vec3(x=0.0, y=11.57873269797354, z=0.0), Vec3(x=0.0, y=0.0, z=10.983541137965132)], unit=nanometer)"
      ]
     },
     "execution_count": 90,
     "metadata": {},
     "output_type": "execute_result"
    }
   ],
   "source": [
    "state.getPeriodicBoxVectors()"
   ]
  },
  {
   "cell_type": "markdown",
   "metadata": {},
   "source": []
  },
  {
   "cell_type": "markdown",
   "metadata": {},
   "source": [
    "# I bet its because of the box vectors"
   ]
  },
  {
   "cell_type": "code",
   "execution_count": 95,
   "metadata": {},
   "outputs": [],
   "source": [
    "x,y,z = state.getPeriodicBoxVectors()"
   ]
  },
  {
   "cell_type": "code",
   "execution_count": 97,
   "metadata": {},
   "outputs": [
    {
     "name": "stdout",
     "output_type": "stream",
     "text": [
      "Vec3(x=11.57873269797354, y=0.0, z=0.0) nm Vec3(x=0.0, y=11.57873269797354, z=0.0) nm Vec3(x=0.0, y=0.0, z=10.983541137965132) nm\n"
     ]
    }
   ],
   "source": [
    "print(x,y,z)"
   ]
  },
  {
   "cell_type": "code",
   "execution_count": 101,
   "metadata": {},
   "outputs": [],
   "source": [
    "psf.setBox(x[0],y[1],z[2])"
   ]
  },
  {
   "cell_type": "code",
   "execution_count": 105,
   "metadata": {},
   "outputs": [],
   "source": [
    "psf = input_dict[\"psf\"]\n",
    "system2 = psf.createSystem(input_dict[\"params\"],\n",
    "                              nonbondedMethod=param_dict_with_units['nonbonded_method'],\n",
    "                              constraints=param_dict_with_units['constraints'],\n",
    "                              removeCMMotion=False,\n",
    "                              hydrogenMass=param_dict_with_units['hydrogen_mass'])\n",
    "integrator2 = openmm.LangevinIntegrator(param_dict_with_units['temperature'],\n",
    "                                             param_dict_with_units['friction'],\n",
    "                                             param_dict_with_units['time_step'])\n",
    "barostat2 = openmm.MonteCarloMembraneBarostat(param_dict_with_units['pressure'],\n",
    "                                         param_dict_with_units['surface_tension'],\n",
    "                                         param_dict_with_units['temperature'],\n",
    "                                         openmm.MonteCarloMembraneBarostat.XYIsotropic,\n",
    "                                         openmm.MonteCarloMembraneBarostat.ZFree\n",
    "                                         )\n",
    "barostat2.setFrequency(50)  ## for some reason the __init__ won't accept it as an argument, but this works\n",
    "    ## the default is 25 timesteps, i've set it for 50\n",
    "system2.addForce(barostat2)\n",
    "platform2 = sb.get_platform_from_params(param_dict_with_units)"
   ]
  },
  {
   "cell_type": "code",
   "execution_count": 106,
   "metadata": {},
   "outputs": [],
   "source": [
    "sim = openmm.app.Simulation(psf.topology,\n",
    "                                system=system2,\n",
    "                                integrator=integrator2,\n",
    "                                platform=platform2)"
   ]
  },
  {
   "cell_type": "code",
   "execution_count": 107,
   "metadata": {},
   "outputs": [],
   "source": [
    "sim.context.setPositions(cif.positions)\n",
    "sim.context.setVelocitiesToTemperature(param_dict_with_units['temperature'])"
   ]
  },
  {
   "cell_type": "markdown",
   "metadata": {},
   "source": [
    "### i was correct"
   ]
  },
  {
   "cell_type": "code",
   "execution_count": 108,
   "metadata": {},
   "outputs": [
    {
     "name": "stdout",
     "output_type": "stream",
     "text": [
      "  initial : -323575.403 kcal/mol\n"
     ]
    }
   ],
   "source": [
    "print(\n",
    "    \"  initial : %8.3f kcal/mol\"\n",
    "    % (\n",
    "        sim.context.getState(getEnergy=True).getPotentialEnergy()\n",
    "        / openmm.unit.kilocalories_per_mole\n",
    "    )\n",
    ")"
   ]
  },
  {
   "cell_type": "code",
   "execution_count": 109,
   "metadata": {},
   "outputs": [],
   "source": [
    "psf2 = openmm.app.CharmmPsfFile(\"../systems/system00/step5_input.psf\")"
   ]
  },
  {
   "cell_type": "code",
   "execution_count": null,
   "metadata": {},
   "outputs": [],
   "source": []
  }
 ],
 "metadata": {
  "kernelspec": {
   "display_name": "Python 3 (ipykernel)",
   "language": "python",
   "name": "python3"
  },
  "language_info": {
   "codemirror_mode": {
    "name": "ipython",
    "version": 3
   },
   "file_extension": ".py",
   "mimetype": "text/x-python",
   "name": "python",
   "nbconvert_exporter": "python",
   "pygments_lexer": "ipython3",
   "version": "3.9.13"
  },
  "toc": {
   "base_numbering": 1,
   "nav_menu": {},
   "number_sections": true,
   "sideBar": true,
   "skip_h1_title": false,
   "title_cell": "Table of Contents",
   "title_sidebar": "Contents",
   "toc_cell": false,
   "toc_position": {},
   "toc_section_display": true,
   "toc_window_display": false
  }
 },
 "nbformat": 4,
 "nbformat_minor": 1
}
