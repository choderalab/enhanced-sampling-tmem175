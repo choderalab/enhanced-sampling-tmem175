{
 "cells": [
  {
   "cell_type": "markdown",
   "metadata": {
    "collapsed": true
   },
   "source": [
    "# Imports"
   ]
  },
  {
   "cell_type": "code",
   "execution_count": 2,
   "metadata": {},
   "outputs": [],
   "source": [
    "from openmm import MonteCarloMembraneBarostat, unit\n",
    "from openmm.app import CharmmParameterSet, CharmmPsfFile, PME, HBonds\n",
    "import os, bz2, openmm"
   ]
  },
  {
   "cell_type": "code",
   "execution_count": null,
   "metadata": {},
   "outputs": [],
   "source": []
  },
  {
   "cell_type": "markdown",
   "metadata": {},
   "source": [
    "## Setting Variables"
   ]
  },
  {
   "cell_type": "code",
   "execution_count": 3,
   "metadata": {},
   "outputs": [],
   "source": [
    "psf_path = './inputs/step5_input.psf'\n",
    "charmm_param_dir = \"./inputs/charmm-params/\"\n",
    "state_path = \"./inputs/state.xml.bz2\""
   ]
  },
  {
   "cell_type": "code",
   "execution_count": 4,
   "metadata": {},
   "outputs": [],
   "source": [
    "hydrogen_mass = 4.0 * unit.amu\n",
    "temperature = 303.15 * unit.kelvin\n",
    "friction = 1 / unit.picoseconds\n",
    "time_step = 0.002 * unit.picoseconds\n",
    "pressure = 1 * unit.bar\n",
    "surface_tension = 0  # units are complicated"
   ]
  },
  {
   "cell_type": "code",
   "execution_count": 5,
   "metadata": {},
   "outputs": [],
   "source": [
    "nonbonded_method = PME\n",
    "constraints = HBonds"
   ]
  },
  {
   "cell_type": "code",
   "execution_count": null,
   "metadata": {},
   "outputs": [],
   "source": []
  },
  {
   "cell_type": "code",
   "execution_count": null,
   "metadata": {},
   "outputs": [],
   "source": []
  },
  {
   "cell_type": "markdown",
   "metadata": {},
   "source": [
    "# Loading Files"
   ]
  },
  {
   "cell_type": "code",
   "execution_count": 6,
   "metadata": {},
   "outputs": [],
   "source": [
    "psf = CharmmPsfFile(psf_path)"
   ]
  },
  {
   "cell_type": "code",
   "execution_count": 7,
   "metadata": {},
   "outputs": [],
   "source": [
    "param_paths = [os.path.join(charmm_param_dir, path) for path in os.listdir(charmm_param_dir)]\n",
    "params = CharmmParameterSet(*param_paths)"
   ]
  },
  {
   "cell_type": "code",
   "execution_count": 8,
   "metadata": {},
   "outputs": [],
   "source": [
    "with bz2.open(state_path, 'rb') as infile:\n",
    "    state = openmm.XmlSerializer.deserialize(infile.read().decode())"
   ]
  },
  {
   "cell_type": "code",
   "execution_count": 9,
   "metadata": {},
   "outputs": [],
   "source": [
    "x, y, z = state.getPeriodicBoxVectors()\n",
    "psf.setBox(x[0], y[1], z[2])"
   ]
  },
  {
   "cell_type": "markdown",
   "metadata": {},
   "source": [
    "# Build System Basics"
   ]
  },
  {
   "cell_type": "code",
   "execution_count": 75,
   "metadata": {},
   "outputs": [
    {
     "data": {
      "text/plain": [
       "8"
      ]
     },
     "execution_count": 75,
     "metadata": {},
     "output_type": "execute_result"
    }
   ],
   "source": [
    "system = psf.createSystem(params,\n",
    "                              nonbondedMethod=nonbonded_method,\n",
    "                              constraints=constraints,\n",
    "                              removeCMMotion=False,\n",
    "                              hydrogenMass=hydrogen_mass)\n",
    "\n",
    "integrator = openmm.LangevinMiddleIntegrator(temperature,\n",
    "                                             friction,\n",
    "                                             time_step)\n",
    "\n",
    "barostat = openmm.MonteCarloMembraneBarostat(pressure,\n",
    "                                             surface_tension,\n",
    "                                             temperature,\n",
    "                                             MonteCarloMembraneBarostat.XYIsotropic,\n",
    "                                             MonteCarloMembraneBarostat.ZFree\n",
    "                                             )\n",
    "barostat.setFrequency(50)\n",
    "\n",
    "system.addForce(barostat)"
   ]
  },
  {
   "cell_type": "markdown",
   "metadata": {},
   "source": [
    "# Create RMSD Restraint Force"
   ]
  },
  {
   "cell_type": "code",
   "execution_count": 76,
   "metadata": {},
   "outputs": [
    {
     "data": {
      "text/plain": [
       "1"
      ]
     },
     "execution_count": 76,
     "metadata": {},
     "output_type": "execute_result"
    }
   ],
   "source": [
    "rmsd_cv = openmm.RMSDForce(state.getPositions())\n",
    "energy_expression = f\"(spring_constant/2)*max(0, RMSD-RMSDmax)^2\"\n",
    "# energy_expression = f\"RMSD\"\n",
    "restraint_force = openmm.CustomCVForce(energy_expression)\n",
    "restraint_force.addCollectiveVariable('RMSD', rmsd_cv)\n",
    "restraint_force.addGlobalParameter('RMSDmax', 0.4)\n",
    "restraint_force.addGlobalParameter(\"spring_constant\", 1000)\n",
    "# *openmm.unit.kilojoules_per_mole / openmm.unit.nanometers"
   ]
  },
  {
   "cell_type": "code",
   "execution_count": 77,
   "metadata": {},
   "outputs": [
    {
     "data": {
      "text/plain": [
       "0"
      ]
     },
     "execution_count": 77,
     "metadata": {},
     "output_type": "execute_result"
    }
   ],
   "source": [
    "restraint_force.getForceGroup()"
   ]
  },
  {
   "cell_type": "markdown",
   "metadata": {},
   "source": [
    "## set force group of restraint force"
   ]
  },
  {
   "cell_type": "code",
   "execution_count": 78,
   "metadata": {},
   "outputs": [
    {
     "data": {
      "text/plain": [
       "20"
      ]
     },
     "execution_count": 78,
     "metadata": {},
     "output_type": "execute_result"
    }
   ],
   "source": [
    "force_group = 20\n",
    "restraint_force.setForceGroup(force_group)\n",
    "restraint_force.getForceGroup()"
   ]
  },
  {
   "cell_type": "markdown",
   "metadata": {},
   "source": [
    "## Add restraint to system"
   ]
  },
  {
   "cell_type": "code",
   "execution_count": 79,
   "metadata": {},
   "outputs": [
    {
     "name": "stdout",
     "output_type": "stream",
     "text": [
      "9\n"
     ]
    }
   ],
   "source": [
    "force_idx = system.addForce(restraint_force)\n",
    "print(force_idx)"
   ]
  },
  {
   "cell_type": "code",
   "execution_count": 80,
   "metadata": {},
   "outputs": [
    {
     "data": {
      "text/plain": [
       "<openmm.openmm.CustomCVForce; proxy of <Swig Object of type 'OpenMM::CustomCVForce *' at 0x1c4a828d0> >"
      ]
     },
     "execution_count": 80,
     "metadata": {},
     "output_type": "execute_result"
    }
   ],
   "source": [
    "system.getForce(9)"
   ]
  },
  {
   "cell_type": "markdown",
   "metadata": {},
   "source": [
    "# Build Simulation Context"
   ]
  },
  {
   "cell_type": "code",
   "execution_count": 81,
   "metadata": {},
   "outputs": [],
   "source": [
    "sim = openmm.app.Simulation(psf.topology,\n",
    "                                system=system,\n",
    "                                integrator=integrator,\n",
    "                                )"
   ]
  },
  {
   "cell_type": "markdown",
   "metadata": {},
   "source": [
    "## set state"
   ]
  },
  {
   "cell_type": "code",
   "execution_count": 82,
   "metadata": {},
   "outputs": [],
   "source": [
    "sim.context.setState(state)"
   ]
  },
  {
   "cell_type": "code",
   "execution_count": null,
   "metadata": {},
   "outputs": [],
   "source": []
  },
  {
   "cell_type": "markdown",
   "metadata": {},
   "source": [
    "# Check values of restraint force"
   ]
  },
  {
   "cell_type": "code",
   "execution_count": 83,
   "metadata": {},
   "outputs": [],
   "source": [
    "state0 = sim.context.getState(getForces=True,\n",
    "                                 getEnergy=True,\n",
    "                                 groups=force_group)"
   ]
  },
  {
   "cell_type": "code",
   "execution_count": 84,
   "metadata": {},
   "outputs": [
    {
     "data": {
      "text/plain": [
       "Quantity(value=119478.8203125, unit=kilojoule/mole)"
      ]
     },
     "execution_count": 84,
     "metadata": {},
     "output_type": "execute_result"
    }
   ],
   "source": [
    "state0.getPotentialEnergy()"
   ]
  },
  {
   "cell_type": "code",
   "execution_count": 85,
   "metadata": {},
   "outputs": [
    {
     "data": {
      "text/plain": [
       "Quantity(value=Vec3(x=-37.856407165527344, y=-57.86224365234375, z=-1.0456074476242065), unit=kilojoule/(nanometer*mole))"
      ]
     },
     "execution_count": 85,
     "metadata": {},
     "output_type": "execute_result"
    }
   ],
   "source": [
    "state0.getForces()[0]"
   ]
  },
  {
   "cell_type": "markdown",
   "metadata": {},
   "source": [
    "## Test correct way of getting force"
   ]
  },
  {
   "cell_type": "code",
   "execution_count": 86,
   "metadata": {},
   "outputs": [
    {
     "name": "stdout",
     "output_type": "stream",
     "text": [
      "0.0 kJ/mol\n",
      "Vec3(x=0.0, y=0.0, z=0.0) kJ/(nm mol)\n"
     ]
    }
   ],
   "source": [
    "state1 = sim.context.getState(getForces=True,\n",
    "                                 getEnergy=True,\n",
    "                                 groups={force_group})\n",
    "print(state1.getPotentialEnergy())\n",
    "print(state1.getForces()[0])"
   ]
  },
  {
   "cell_type": "code",
   "execution_count": null,
   "metadata": {},
   "outputs": [],
   "source": []
  },
  {
   "cell_type": "markdown",
   "metadata": {},
   "source": [
    "## check collective variable"
   ]
  },
  {
   "cell_type": "code",
   "execution_count": 87,
   "metadata": {},
   "outputs": [],
   "source": [
    "system0 = sim.context.getSystem()\n",
    "force = system0.getForce(9)"
   ]
  },
  {
   "cell_type": "code",
   "execution_count": 88,
   "metadata": {},
   "outputs": [
    {
     "name": "stdout",
     "output_type": "stream",
     "text": [
      "CustomCVForce\n",
      "(0.000806081945833448,)\n"
     ]
    }
   ],
   "source": [
    "print(force.getName())\n",
    "print(force.getCollectiveVariableValues(sim.context))"
   ]
  },
  {
   "cell_type": "code",
   "execution_count": 89,
   "metadata": {},
   "outputs": [
    {
     "data": {
      "text/plain": [
       "'(spring_constant/2)*max(0, RMSD-RMSDmax)^2'"
      ]
     },
     "execution_count": 89,
     "metadata": {},
     "output_type": "execute_result"
    }
   ],
   "source": [
    "force.getEnergyFunction()"
   ]
  },
  {
   "cell_type": "code",
   "execution_count": null,
   "metadata": {},
   "outputs": [],
   "source": []
  },
  {
   "cell_type": "markdown",
   "metadata": {},
   "source": [
    "## Conclusion: I have not been doing this right. see https://github.com/openmm/openmm/issues/3776"
   ]
  }
 ],
 "metadata": {
  "kernelspec": {
   "display_name": "Python 3 (ipykernel)",
   "language": "python",
   "name": "python3"
  },
  "language_info": {
   "codemirror_mode": {
    "name": "ipython",
    "version": 3
   },
   "file_extension": ".py",
   "mimetype": "text/x-python",
   "name": "python",
   "nbconvert_exporter": "python",
   "pygments_lexer": "ipython3",
   "version": "3.9.13"
  },
  "toc": {
   "base_numbering": 1,
   "nav_menu": {},
   "number_sections": true,
   "sideBar": true,
   "skip_h1_title": false,
   "title_cell": "Table of Contents",
   "title_sidebar": "Contents",
   "toc_cell": false,
   "toc_position": {},
   "toc_section_display": true,
   "toc_window_display": true
  }
 },
 "nbformat": 4,
 "nbformat_minor": 1
}