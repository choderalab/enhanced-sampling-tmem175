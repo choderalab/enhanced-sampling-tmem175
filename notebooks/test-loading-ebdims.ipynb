{
 "cells": [
  {
   "cell_type": "markdown",
   "metadata": {
    "collapsed": true,
    "pycharm": {
     "is_executing": true
    }
   },
   "source": [
    "# Imports"
   ]
  },
  {
   "cell_type": "code",
   "execution_count": 1,
   "metadata": {
    "pycharm": {
     "is_executing": true
    }
   },
   "outputs": [],
   "source": [
    "import mdtraj as md\n",
    "import matplotlib.pyplot as plt\n",
    "import os, sys\n",
    "repo_path = f\"../../\"\n",
    "sys.path.append(repo_path)\n",
    "from enhanced_sampling import (utils,\n",
    "                               system_building as sb,\n",
    "                               system_saving as ss,\n",
    "                               reporters,\n",
    "                               cv_building as cv,\n",
    "                               schema)\n",
    "from importlib import reload"
   ]
  },
  {
   "cell_type": "markdown",
   "metadata": {},
   "source": [
    "# Loading Files"
   ]
  },
  {
   "cell_type": "code",
   "execution_count": 42,
   "metadata": {},
   "outputs": [],
   "source": [
    "fwd_path = \"../systems/eBDims/transition_forward.pdb\"\n",
    "rev_path = \"../systems/eBDims/transition_reverse.pdb\""
   ]
  },
  {
   "cell_type": "code",
   "execution_count": 43,
   "metadata": {},
   "outputs": [],
   "source": [
    "fwd = md.load(fwd_path)\n",
    "rev = md.load(rev_path)"
   ]
  },
  {
   "cell_type": "code",
   "execution_count": 4,
   "metadata": {},
   "outputs": [
    {
     "data": {
      "text/plain": [
       "<mdtraj.Trajectory with 46 frames, 894 atoms, 894 residues, without unitcells at 0x17e933f40>"
      ]
     },
     "execution_count": 4,
     "metadata": {},
     "output_type": "execute_result"
    }
   ],
   "source": [
    "fwd"
   ]
  },
  {
   "cell_type": "code",
   "execution_count": 5,
   "metadata": {},
   "outputs": [
    {
     "data": {
      "text/plain": [
       "<mdtraj.Trajectory with 43 frames, 894 atoms, 894 residues, without unitcells at 0x17e5b0e50>"
      ]
     },
     "execution_count": 5,
     "metadata": {},
     "output_type": "execute_result"
    }
   ],
   "source": [
    "rev"
   ]
  },
  {
   "cell_type": "markdown",
   "metadata": {},
   "source": [
    "# Plotting RMSD"
   ]
  },
  {
   "cell_type": "code",
   "execution_count": 6,
   "metadata": {},
   "outputs": [],
   "source": [
    "fwd_rmsd = md.rmsd(fwd, rev)*10\n",
    "rev_rmsd = md.rmsd(rev, fwd)*10"
   ]
  },
  {
   "cell_type": "code",
   "execution_count": 7,
   "metadata": {},
   "outputs": [
    {
     "data": {
      "text/plain": [
       "[<matplotlib.lines.Line2D at 0x17d6cb400>]"
      ]
     },
     "execution_count": 7,
     "metadata": {},
     "output_type": "execute_result"
    },
    {
     "data": {
      "image/png": "[encoded data removed]",
      "text/plain": [
       "<Figure size 640x480 with 1 Axes>"
      ]
     },
     "metadata": {},
     "output_type": "display_data"
    }
   ],
   "source": [
    "plt.plot(fwd_rmsd)\n",
    "plt.plot(rev_rmsd)"
   ]
  },
  {
   "cell_type": "markdown",
   "metadata": {},
   "source": [
    "# Test getting positions"
   ]
  },
  {
   "cell_type": "code",
   "execution_count": 8,
   "metadata": {},
   "outputs": [
    {
     "data": {
      "text/plain": [
       "894"
      ]
     },
     "execution_count": 8,
     "metadata": {},
     "output_type": "execute_result"
    }
   ],
   "source": [
    "len(fwd.xyz[0])"
   ]
  },
  {
   "cell_type": "code",
   "execution_count": 9,
   "metadata": {},
   "outputs": [
    {
     "data": {
      "text/plain": [
       "array([[-1.5793759e+00, -7.4008268e-01, -2.0439115e+00],\n",
       "       [-1.3379759e+00, -5.2228266e-01, -1.8314114e+00],\n",
       "       [-9.5417583e-01, -4.9118266e-01, -1.7904112e+00],\n",
       "       ...,\n",
       "       [-4.2232757e+00, -8.2673803e-05, -1.7515113e+00],\n",
       "       [-4.5359759e+00, -2.1668267e-01, -1.7358115e+00],\n",
       "       [-4.6746759e+00, -4.2982675e-02, -1.4241114e+00]], dtype=float32)"
      ]
     },
     "execution_count": 9,
     "metadata": {},
     "output_type": "execute_result"
    }
   ],
   "source": [
    "fwd.xyz[0]"
   ]
  },
  {
   "cell_type": "code",
   "execution_count": 10,
   "metadata": {},
   "outputs": [
    {
     "data": {
      "text/plain": [
       "46"
      ]
     },
     "execution_count": 10,
     "metadata": {},
     "output_type": "execute_result"
    }
   ],
   "source": [
    "len(fwd.xyz)"
   ]
  },
  {
   "cell_type": "markdown",
   "metadata": {},
   "source": [
    "# Load system"
   ]
  },
  {
   "cell_type": "code",
   "execution_count": 11,
   "metadata": {},
   "outputs": [
    {
     "name": "stdout",
     "output_type": "stream",
     "text": [
      "Loading psf from ../systems/system00/step5_input.psf\n"
     ]
    }
   ],
   "source": [
    "input_dict = sb.load_input_dir('../systems/system00/')"
   ]
  },
  {
   "cell_type": "code",
   "execution_count": 12,
   "metadata": {},
   "outputs": [],
   "source": [
    "psf = input_dict[\"psf\"]"
   ]
  },
  {
   "cell_type": "code",
   "execution_count": null,
   "metadata": {},
   "outputs": [],
   "source": []
  },
  {
   "cell_type": "code",
   "execution_count": 13,
   "metadata": {},
   "outputs": [
    {
     "data": {
      "text/plain": [
       "<module 'enhanced_sampling.system_building' from '/Users/alexpayne/Scientific_Projects/enhanced-sampling-tmem175/enhanced_sampling/system_building.py'>"
      ]
     },
     "execution_count": 13,
     "metadata": {},
     "output_type": "execute_result"
    }
   ],
   "source": [
    "reload(sb)"
   ]
  },
  {
   "cell_type": "code",
   "execution_count": 14,
   "metadata": {},
   "outputs": [
    {
     "name": "stdout",
     "output_type": "stream",
     "text": [
      "Loading psf from ../systems/system00/step5_input.psf\n"
     ]
    }
   ],
   "source": [
    "open_input = sb.load_input_dir('../systems/system00/', from_state=True, from_pdb=True)"
   ]
  },
  {
   "cell_type": "code",
   "execution_count": 15,
   "metadata": {},
   "outputs": [],
   "source": [
    "pdb = md.load(\"../systems/system00/step5_input.pdb\")"
   ]
  },
  {
   "cell_type": "code",
   "execution_count": 16,
   "metadata": {},
   "outputs": [
    {
     "data": {
      "text/plain": [
       "<mdtraj.Trajectory with 46 frames, 894 atoms, 894 residues, without unitcells at 0x17e933f40>"
      ]
     },
     "execution_count": 16,
     "metadata": {},
     "output_type": "execute_result"
    }
   ],
   "source": [
    "fwd"
   ]
  },
  {
   "cell_type": "code",
   "execution_count": 17,
   "metadata": {},
   "outputs": [],
   "source": [
    "pdb_cas = pdb.atom_slice(pdb.topology.select(\"protein and name CA\"))"
   ]
  },
  {
   "cell_type": "code",
   "execution_count": 18,
   "metadata": {},
   "outputs": [
    {
     "data": {
      "text/plain": [
       "<mdtraj.Trajectory with 1 frames, 894 atoms, 894 residues, without unitcells at 0x18105cdf0>"
      ]
     },
     "execution_count": 18,
     "metadata": {},
     "output_type": "execute_result"
    }
   ],
   "source": [
    "pdb_cas"
   ]
  },
  {
   "cell_type": "code",
   "execution_count": 19,
   "metadata": {},
   "outputs": [
    {
     "data": {
      "text/plain": [
       "array([0.24070384, 0.2383621 , 0.23719524, 0.23539928, 0.2339073 ,\n",
       "       0.23100792, 0.22875318, 0.22657968, 0.22436808, 0.22249314,\n",
       "       0.21995264, 0.21714616, 0.21432588, 0.21087568, 0.20786265,\n",
       "       0.20493594, 0.20193438, 0.19879963, 0.19539952, 0.19168292,\n",
       "       0.18859498, 0.18507533, 0.18054906, 0.17654791, 0.17056555,\n",
       "       0.16532972, 0.15967308, 0.15360598, 0.1472113 , 0.13967606,\n",
       "       0.13335066, 0.12655458, 0.11887706, 0.11094914, 0.1018746 ,\n",
       "       0.09376165, 0.08561993, 0.07724264, 0.06895656, 0.06063709,\n",
       "       0.05239351, 0.04511154, 0.03857179, 0.03291828, 0.02707338,\n",
       "       0.02308826], dtype=float32)"
      ]
     },
     "execution_count": 19,
     "metadata": {},
     "output_type": "execute_result"
    }
   ],
   "source": [
    "md.rmsd(fwd, pdb_cas)"
   ]
  },
  {
   "cell_type": "markdown",
   "metadata": {},
   "source": [
    "# Test using CA for force"
   ]
  },
  {
   "cell_type": "markdown",
   "metadata": {},
   "source": [
    "## get ca positions"
   ]
  },
  {
   "cell_type": "code",
   "execution_count": 20,
   "metadata": {},
   "outputs": [
    {
     "name": "stdout",
     "output_type": "stream",
     "text": [
      "Using protein selection: protein_ca and res_list: False\n"
     ]
    }
   ],
   "source": [
    "idx_list = cv.get_openmm_idx(psf.topology, selection=\"protein_ca\")"
   ]
  },
  {
   "cell_type": "code",
   "execution_count": 21,
   "metadata": {},
   "outputs": [
    {
     "data": {
      "text/plain": [
       "894"
      ]
     },
     "execution_count": 21,
     "metadata": {},
     "output_type": "execute_result"
    }
   ],
   "source": [
    "len(idx_list)"
   ]
  },
  {
   "cell_type": "markdown",
   "metadata": {},
   "source": [
    "## get ref positions"
   ]
  },
  {
   "cell_type": "code",
   "execution_count": 22,
   "metadata": {},
   "outputs": [],
   "source": [
    "ref_positions = fwd.xyz[1]"
   ]
  },
  {
   "cell_type": "code",
   "execution_count": 23,
   "metadata": {},
   "outputs": [],
   "source": [
    "restraint_positions = {idx_list[i]: ref_positions[i] for i in range(len(idx_list))}"
   ]
  },
  {
   "cell_type": "code",
   "execution_count": 24,
   "metadata": {},
   "outputs": [],
   "source": [
    "x,y,z = restraint_positions[8]"
   ]
  },
  {
   "cell_type": "code",
   "execution_count": 25,
   "metadata": {},
   "outputs": [],
   "source": [
    "force = cv.create_harmonic_pulling_force(restraint_positions, 100)"
   ]
  },
  {
   "cell_type": "code",
   "execution_count": 26,
   "metadata": {},
   "outputs": [
    {
     "name": "stdout",
     "output_type": "stream",
     "text": [
      "Adding CustomExternalForce to system with 894 particles\n"
     ]
    }
   ],
   "source": [
    "force.setForceGroup(20)\n",
    "print(f\"Adding {force.getName()} to system with {force.getNumParticles()} particles\")"
   ]
  },
  {
   "cell_type": "markdown",
   "metadata": {},
   "source": [
    "# Test superposing ebdims"
   ]
  },
  {
   "cell_type": "code",
   "execution_count": 27,
   "metadata": {},
   "outputs": [
    {
     "data": {
      "text/plain": [
       "<mdtraj.Trajectory with 46 frames, 894 atoms, 894 residues, without unitcells at 0x17e933f40>"
      ]
     },
     "execution_count": 27,
     "metadata": {},
     "output_type": "execute_result"
    }
   ],
   "source": [
    "fwd"
   ]
  },
  {
   "cell_type": "code",
   "execution_count": 28,
   "metadata": {},
   "outputs": [],
   "source": [
    "cas = pdb.topology.select(\"protein and name CA\")"
   ]
  },
  {
   "cell_type": "code",
   "execution_count": 29,
   "metadata": {},
   "outputs": [
    {
     "data": {
      "text/plain": [
       "894"
      ]
     },
     "execution_count": 29,
     "metadata": {},
     "output_type": "execute_result"
    }
   ],
   "source": [
    "len(cas)"
   ]
  },
  {
   "cell_type": "code",
   "execution_count": 30,
   "metadata": {},
   "outputs": [],
   "source": [
    "fwd_superpose = fwd.superpose(reference = pdb,\n",
    "                              frame=0,\n",
    "                              atom_indices=fwd.topology.select(\"protein and name CA\"),\n",
    "                              ref_atom_indices=pdb.topology.select(\"protein and name CA\")\n",
    "                             )"
   ]
  },
  {
   "cell_type": "code",
   "execution_count": 31,
   "metadata": {},
   "outputs": [
    {
     "data": {
      "text/plain": [
       "array([4.482907 , 5.310242 , 3.2695339], dtype=float32)"
      ]
     },
     "execution_count": 31,
     "metadata": {},
     "output_type": "execute_result"
    }
   ],
   "source": [
    "fwd_superpose.xyz[0][0]"
   ]
  },
  {
   "cell_type": "code",
   "execution_count": 32,
   "metadata": {},
   "outputs": [
    {
     "data": {
      "text/plain": [
       "array([4.482907 , 5.310242 , 3.2695339], dtype=float32)"
      ]
     },
     "execution_count": 32,
     "metadata": {},
     "output_type": "execute_result"
    }
   ],
   "source": [
    "fwd.xyz[0][0]"
   ]
  },
  {
   "cell_type": "code",
   "execution_count": 33,
   "metadata": {},
   "outputs": [
    {
     "data": {
      "text/plain": [
       "<mdtraj.Trajectory with 46 frames, 894 atoms, 894 residues, without unitcells at 0x17e933f40>"
      ]
     },
     "execution_count": 33,
     "metadata": {},
     "output_type": "execute_result"
    }
   ],
   "source": [
    "fwd_superpose"
   ]
  },
  {
   "cell_type": "code",
   "execution_count": 34,
   "metadata": {},
   "outputs": [],
   "source": [
    "fwd_superpose.save(\"../systems/eBDims/closed_to_open_superposed.pdb\")"
   ]
  },
  {
   "cell_type": "code",
   "execution_count": 35,
   "metadata": {},
   "outputs": [
    {
     "data": {
      "text/plain": [
       "array([0.24070612, 0.23835981, 0.23719984, 0.23539928, 0.23390496,\n",
       "       0.23101029, 0.22875318, 0.22657003, 0.22436808, 0.22249068,\n",
       "       0.21994768, 0.2171512 , 0.21432588, 0.21088086, 0.20786265,\n",
       "       0.20493594, 0.20192896, 0.19880511, 0.19539392, 0.19168292,\n",
       "       0.18859209, 0.18507533, 0.18055813, 0.17655101, 0.17055593,\n",
       "       0.16533634, 0.15966965, 0.15360244, 0.14721501, 0.13967606,\n",
       "       0.13335474, 0.12654163, 0.11889084, 0.11094422, 0.10186388,\n",
       "       0.09375583, 0.08561993, 0.07724971, 0.06896448, 0.06063709,\n",
       "       0.05238308, 0.04511154, 0.03855763, 0.03295144, 0.0270532 ,\n",
       "       0.0230409 ], dtype=float32)"
      ]
     },
     "execution_count": 35,
     "metadata": {},
     "output_type": "execute_result"
    }
   ],
   "source": [
    "md.rmsd(fwd_superpose, pdb_cas)"
   ]
  },
  {
   "cell_type": "code",
   "execution_count": 44,
   "metadata": {},
   "outputs": [],
   "source": [
    "rev_superpose = rev.superpose(reference = pdb,\n",
    "                              frame=0,\n",
    "                              atom_indices=rev.topology.select(\"protein and name CA\"),\n",
    "                              ref_atom_indices=pdb.topology.select(\"protein and name CA\")\n",
    "                             )"
   ]
  },
  {
   "cell_type": "code",
   "execution_count": 45,
   "metadata": {},
   "outputs": [
    {
     "data": {
      "text/plain": [
       "array([4.482549 , 5.272369 , 3.3224187], dtype=float32)"
      ]
     },
     "execution_count": 45,
     "metadata": {},
     "output_type": "execute_result"
    }
   ],
   "source": [
    "rev_superpose.xyz[0][0]"
   ]
  },
  {
   "cell_type": "code",
   "execution_count": 46,
   "metadata": {},
   "outputs": [],
   "source": [
    "rev_superpose.save(\"../systems/eBDims/open_to_closed_superposed.pdb\")"
   ]
  },
  {
   "cell_type": "code",
   "execution_count": 47,
   "metadata": {},
   "outputs": [
    {
     "data": {
      "text/plain": [
       "array([4.482549 , 5.272369 , 3.3224187], dtype=float32)"
      ]
     },
     "execution_count": 47,
     "metadata": {},
     "output_type": "execute_result"
    }
   ],
   "source": [
    "rev_superpose.xyz[0][0]"
   ]
  },
  {
   "cell_type": "code",
   "execution_count": null,
   "metadata": {},
   "outputs": [],
   "source": []
  }
 ],
 "metadata": {
  "kernelspec": {
   "display_name": "Python 3 (ipykernel)",
   "language": "python",
   "name": "python3"
  },
  "language_info": {
   "codemirror_mode": {
    "name": "ipython",
    "version": 3
   },
   "file_extension": ".py",
   "mimetype": "text/x-python",
   "name": "python",
   "nbconvert_exporter": "python",
   "pygments_lexer": "ipython3",
   "version": "3.9.13"
  },
  "toc": {
   "base_numbering": 1,
   "nav_menu": {},
   "number_sections": true,
   "sideBar": true,
   "skip_h1_title": false,
   "title_cell": "Table of Contents",
   "title_sidebar": "Contents",
   "toc_cell": false,
   "toc_position": {},
   "toc_section_display": true,
   "toc_window_display": true
  }
 },
 "nbformat": 4,
 "nbformat_minor": 1
}
