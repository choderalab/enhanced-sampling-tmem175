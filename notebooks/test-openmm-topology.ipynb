{
 "cells": [
  {
   "cell_type": "code",
   "execution_count": 4,
   "metadata": {},
   "outputs": [
    {
     "ename": "SyntaxError",
     "evalue": "invalid syntax (cv_building.py, line 20)",
     "output_type": "error",
     "traceback": [
      "Traceback \u001B[0;36m(most recent call last)\u001B[0m:\n",
      "\u001B[0m  File \u001B[1;32m~/opt/anaconda3/envs/enhanced-sampling-tmem175/lib/python3.9/site-packages/IPython/core/interactiveshell.py:3378\u001B[0m in \u001B[1;35mrun_code\u001B[0m\n    exec(code_obj, self.user_global_ns, self.user_ns)\u001B[0m\n",
      "\u001B[0;36m  Cell \u001B[0;32mIn [4], line 3\u001B[0;36m\n\u001B[0;31m    from enhanced_sampling import utils, system_building as sb, system_saving as ss, cv_building as cv\u001B[0;36m\n",
      "\u001B[0;36m  File \u001B[0;32m~/Scientific_Projects/enhanced-sampling-tmem175/enhanced_sampling/cv_building.py:20\u001B[0;36m\u001B[0m\n\u001B[0;31m    (atom.residue.chain.index == 0 or atom.residue.chain.index == 1) and atom.]\u001B[0m\n\u001B[0m                                                                              ^\u001B[0m\n\u001B[0;31mSyntaxError\u001B[0m\u001B[0;31m:\u001B[0m invalid syntax\n"
     ]
    }
   ],
   "source": [
    "import os, openmm\n",
    "sys.path.append(\"../\")\n",
    "from enhanced_sampling import utils, system_building as sb, system_saving as ss, cv_building as cv"
   ]
  },
  {
   "cell_type": "code",
   "execution_count": 5,
   "metadata": {},
   "outputs": [
    {
     "name": "stdout",
     "output_type": "stream",
     "text": [
      "Loading psf from ../systems/system00/step5_input.psf\n"
     ]
    }
   ],
   "source": [
    "input_dict = sb.load_input_dir(\"../systems/system00/\")"
   ]
  },
  {
   "cell_type": "code",
   "execution_count": 6,
   "metadata": {},
   "outputs": [],
   "source": [
    "psf = input_dict['psf']"
   ]
  },
  {
   "cell_type": "code",
   "execution_count": 8,
   "metadata": {},
   "outputs": [
    {
     "data": {
      "text/plain": [
       "<Topology; 5 chains, 31576 residues, 151920 atoms, 121416 bonds>"
      ]
     },
     "execution_count": 8,
     "metadata": {},
     "output_type": "execute_result"
    }
   ],
   "source": [
    "psf.topology"
   ]
  },
  {
   "cell_type": "markdown",
   "metadata": {},
   "source": [
    "## define function"
   ]
  },
  {
   "cell_type": "code",
   "execution_count": 68,
   "metadata": {},
   "outputs": [],
   "source": [
    "def get_openmm_idx(topology: openmm.app.topology.Topology, selection, res_list = False):\n",
    "    \n",
    "    if selection == \"protein\":\n",
    "        idx = [atom.index for atom in topology.atoms() if\n",
    "               atom.residue.chain.index == 0 or atom.residue.chain.index == 1]\n",
    "    elif selection == \"protein_heavy\":\n",
    "        idx = [atom.index for atom in topology.atoms() if\n",
    "               (atom.residue.chain.index == 0 or atom.residue.chain.index == 1) and atom.element.symbol != 'H']\n",
    "    elif selection == \"protein_ca\":\n",
    "        idx = [atom.index for atom in topology.atoms() if\n",
    "               (atom.residue.chain.index == 0 or atom.residue.chain.index == 1) and atom.name == 'CA']\n",
    "    else:\n",
    "        raise NotImplementedError\n",
    "    \n",
    "    if res_list:\n",
    "        atom_idx_list = [atom.index for atom in topology.atoms() if\n",
    "                         atom.residue.id in res_list]\n",
    "        idx = [index for index in idx if index in atom_idx_list]\n",
    "    \n",
    "    return idx"
   ]
  },
  {
   "cell_type": "code",
   "execution_count": 70,
   "metadata": {},
   "outputs": [
    {
     "name": "stdout",
     "output_type": "stream",
     "text": [
      "14266\n",
      "7006\n",
      "894\n",
      "4\n"
     ]
    }
   ],
   "source": [
    "print(len(get_openmm_idx(psf.topology, \"protein\")))\n",
    "print(len(get_openmm_idx(psf.topology, \"protein_heavy\")))\n",
    "print(len(get_openmm_idx(psf.topology, \"protein_ca\")))\n",
    "print(len(get_openmm_idx(psf.topology, \"protein_ca\", ['30', '279'])))"
   ]
  },
  {
   "cell_type": "code",
   "execution_count": null,
   "metadata": {},
   "outputs": [],
   "source": []
  },
  {
   "cell_type": "code",
   "execution_count": 17,
   "metadata": {},
   "outputs": [],
   "source": [
    "atoms = [atom for atom in psf.topology.atoms()]"
   ]
  },
  {
   "cell_type": "code",
   "execution_count": 48,
   "metadata": {},
   "outputs": [],
   "source": [
    "atom = atoms[1]"
   ]
  },
  {
   "cell_type": "code",
   "execution_count": 49,
   "metadata": {},
   "outputs": [
    {
     "data": {
      "text/plain": [
       "False"
      ]
     },
     "execution_count": 49,
     "metadata": {},
     "output_type": "execute_result"
    }
   ],
   "source": [
    "atom.element.symbol != 'H'"
   ]
  },
  {
   "cell_type": "code",
   "execution_count": 54,
   "metadata": {},
   "outputs": [
    {
     "data": {
      "text/plain": [
       "'30'"
      ]
     },
     "execution_count": 54,
     "metadata": {},
     "output_type": "execute_result"
    }
   ],
   "source": [
    "atom.residue.id"
   ]
  },
  {
   "cell_type": "code",
   "execution_count": 55,
   "metadata": {},
   "outputs": [
    {
     "data": {
      "text/plain": [
       "0"
      ]
     },
     "execution_count": 55,
     "metadata": {},
     "output_type": "execute_result"
    }
   ],
   "source": [
    "atom.residue.index"
   ]
  },
  {
   "cell_type": "code",
   "execution_count": 56,
   "metadata": {},
   "outputs": [
    {
     "data": {
      "text/plain": [
       "'30'"
      ]
     },
     "execution_count": 56,
     "metadata": {},
     "output_type": "execute_result"
    }
   ],
   "source": [
    "atom.residue.id"
   ]
  },
  {
   "cell_type": "code",
   "execution_count": 57,
   "metadata": {},
   "outputs": [
    {
     "data": {
      "text/plain": [
       "'2'"
      ]
     },
     "execution_count": 57,
     "metadata": {},
     "output_type": "execute_result"
    }
   ],
   "source": [
    "atom.id"
   ]
  },
  {
   "cell_type": "code",
   "execution_count": 58,
   "metadata": {},
   "outputs": [
    {
     "data": {
      "text/plain": [
       "1"
      ]
     },
     "execution_count": 58,
     "metadata": {},
     "output_type": "execute_result"
    }
   ],
   "source": [
    "atom.index"
   ]
  },
  {
   "cell_type": "code",
   "execution_count": 40,
   "metadata": {},
   "outputs": [
    {
     "data": {
      "text/plain": [
       "'CA'"
      ]
     },
     "execution_count": 40,
     "metadata": {},
     "output_type": "execute_result"
    }
   ],
   "source": [
    "atom.name"
   ]
  },
  {
   "cell_type": "code",
   "execution_count": null,
   "metadata": {},
   "outputs": [],
   "source": []
  }
 ],
 "metadata": {
  "kernelspec": {
   "display_name": "Python 3 (ipykernel)",
   "language": "python",
   "name": "python3"
  },
  "language_info": {
   "codemirror_mode": {
    "name": "ipython",
    "version": 3
   },
   "file_extension": ".py",
   "mimetype": "text/x-python",
   "name": "python",
   "nbconvert_exporter": "python",
   "pygments_lexer": "ipython3",
   "version": "3.9.13"
  },
  "toc": {
   "base_numbering": 1,
   "nav_menu": {},
   "number_sections": true,
   "sideBar": true,
   "skip_h1_title": false,
   "title_cell": "Table of Contents",
   "title_sidebar": "Contents",
   "toc_cell": false,
   "toc_position": {},
   "toc_section_display": true,
   "toc_window_display": false
  }
 },
 "nbformat": 4,
 "nbformat_minor": 1
}