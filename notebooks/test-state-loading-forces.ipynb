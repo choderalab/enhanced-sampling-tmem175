{
 "cells": [
  {
   "cell_type": "code",
   "execution_count": 8,
   "id": "a787393f",
   "metadata": {},
   "outputs": [],
   "source": [
    "import openmm, sys\n",
    "sys.path.append(\"../../\")\n",
    "from enhanced_sampling import (utils, \n",
    "                               system_building as sb, \n",
    "                               system_saving as ss,\n",
    "                               schema)"
   ]
  },
  {
   "cell_type": "code",
   "execution_count": 17,
   "id": "5f568d1f",
   "metadata": {},
   "outputs": [],
   "source": [
    "state_dict = sb.load_input_dir(\"/Volumes/Rohirrim/local_test/enhanced_sampling/pulling/01.open_to_closed/frame00/\",\n",
    "                               load_psf=False,)"
   ]
  },
  {
   "cell_type": "code",
   "execution_count": 10,
   "id": "8df4bfec",
   "metadata": {},
   "outputs": [
    {
     "name": "stdout",
     "output_type": "stream",
     "text": [
      "Loading psf from ../systems/system00/step5_input.psf\n",
      "Loading Charmm params from ../forcefield_data/charmm-params/\n"
     ]
    }
   ],
   "source": [
    "psf_dict = input_dict = sb.load_input_dir(\"../systems/system00\", \"../forcefield_data/charmm-params/\")"
   ]
  },
  {
   "cell_type": "code",
   "execution_count": 11,
   "id": "cc374fad",
   "metadata": {},
   "outputs": [],
   "source": [
    "psf = input_dict[\"psf\"]"
   ]
  },
  {
   "cell_type": "code",
   "execution_count": 13,
   "id": "20cde458",
   "metadata": {},
   "outputs": [
    {
     "name": "stdout",
     "output_type": "stream",
     "text": [
      "Loading sim_params from ../sim_params/local_test.yaml\n",
      "hydrogen_mass       : 4.0 Da\n",
      "temperature         : 303.15 K\n",
      "friction            : 1 /ps\n",
      "time_step           : 0.002 ps\n",
      "pressure            : 1 bar\n",
      "surface_tension     : 0\n",
      "n_steps             : 10\n",
      "report_freq         : 1\n",
      "chk_freq            : 10\n",
      "traj_freq           : 1\n",
      "virtual_bond        : ['resSeq 46 and name CA and chainid 0', 'resSeq 46 and name CA and chainid 1']\n",
      "platform            : CPU\n",
      "precision           : mixed\n",
      "nonbonded_method    : PME\n",
      "constraints         : HBonds\n",
      "steps_dict          : {'Total Time': 10, 'Report Freq': 1, 'Checkpoint Freq': 10, 'Trajectory Freq': 1}\n",
      "time_dict           : {'Total Time': Quantity(value=0.02, unit=picosecond), 'Report Freq': Quantity(value=0.002, unit=picosecond), 'Checkpoint Freq': Quantity(value=0.02, unit=picosecond), 'Trajectory Freq': Quantity(value=0.002, unit=picosecond)}\n",
      "n_frames            : 10\n",
      "Total Time          :\t0.00 ns             0.02 ps             20.00 fs            \n",
      "Report Freq         :\t0.00 ns             0.00 ps             2.00 fs             \n",
      "Checkpoint Freq     :\t0.00 ns             0.02 ps             20.00 fs            \n",
      "Trajectory Freq     :\t0.00 ns             0.00 ps             2.00 fs             \n",
      "Number of Frames    :\t10\n",
      "Number of Steps     :\t10\n",
      "Loading sim_params from ../pulling_methods/cas.yaml\n",
      "spring_constant     : 1000\n",
      "force_group         : 20\n",
      "selection           : protein_ca\n",
      "['resSeq 46 and name CA and chainid 0', 'resSeq 46 and name CA and chainid 1']\n",
      "<mdtraj.Topology with 5 chains, 31576 residues, 151920 atoms, 121416 bonds>\n"
     ]
    }
   ],
   "source": [
    "params = schema.SimParams(\"../sim_params/local_test.yaml\")\n",
    "print(params)\n",
    "pulling_params = schema.PullingParams(\"../pulling_methods/cas.yaml\")\n",
    "print(pulling_params)\n",
    "system = psf.createSystem(input_dict[\"params\"],\n",
    "                          nonbondedMethod=params.nonbonded_method,\n",
    "                          constraints=params.constraints,\n",
    "                          removeCMMotion=False,\n",
    "                          hydrogenMass=params.hydrogen_mass)\n",
    "\n",
    "integrator = openmm.LangevinMiddleIntegrator(params.temperature,\n",
    "                                             params.friction,\n",
    "                                             params.time_step)\n",
    "\n",
    "barostat = openmm.MonteCarloMembraneBarostat(params.pressure,\n",
    "                                             params.surface_tension,\n",
    "                                             params.temperature,\n",
    "                                             openmm.MonteCarloMembraneBarostat.XYIsotropic,\n",
    "                                             openmm.MonteCarloMembraneBarostat.ZFree\n",
    "                                             )\n",
    "\n",
    "# for some reason the __init__ won't accept it as an argument, but this works\n",
    "# the default is 25 timesteps, i've set it for 50\n",
    "barostat.setFrequency(50)\n",
    "\n",
    "system.addForce(barostat)\n",
    "\n",
    "vbond_force = sb.build_virtual_bond(psf, params)\n",
    "\n",
    "system.addForce(vbond_force)\n",
    "\n",
    "platform = sb.get_platform_from_params(params)"
   ]
  },
  {
   "cell_type": "code",
   "execution_count": 14,
   "id": "76ef8e52",
   "metadata": {},
   "outputs": [],
   "source": [
    "sim = openmm.app.Simulation(psf.topology,\n",
    "                                system=system,\n",
    "                                integrator=integrator,\n",
    "                                platform=platform)"
   ]
  },
  {
   "cell_type": "code",
   "execution_count": 16,
   "id": "c19abf64",
   "metadata": {},
   "outputs": [
    {
     "name": "stdout",
     "output_type": "stream",
     "text": [
      "HarmonicBondForce 0\n",
      "HarmonicAngleForce 1\n",
      "HarmonicBondForce 3\n",
      "PeriodicTorsionForce 2\n",
      "CustomTorsionForce 4\n",
      "CMAPTorsionForce 5\n",
      "NonbondedForce 6\n",
      "CustomNonbondedForce 6\n",
      "MonteCarloMembraneBarostat 0\n",
      "CustomBondForce 0\n"
     ]
    }
   ],
   "source": [
    "for force in system.getForces():\n",
    "        print(force.getName(), force.getForceGroup())"
   ]
  },
  {
   "cell_type": "code",
   "execution_count": 21,
   "id": "418c724f",
   "metadata": {},
   "outputs": [],
   "source": [
    "state=state_dict[\"state\"]"
   ]
  },
  {
   "cell_type": "code",
   "execution_count": 22,
   "id": "88aed025",
   "metadata": {},
   "outputs": [
    {
     "data": {
      "text/plain": [
       "<openmm.openmm.State; proxy of <Swig Object of type 'OpenMM::State *' at 0x18458eb10> >"
      ]
     },
     "execution_count": 22,
     "metadata": {},
     "output_type": "execute_result"
    }
   ],
   "source": [
    "state"
   ]
  },
  {
   "cell_type": "code",
   "execution_count": 23,
   "id": "df2581c7",
   "metadata": {},
   "outputs": [
    {
     "ename": "OpenMMException",
     "evalue": "Called setParameter() with invalid parameter name: k",
     "output_type": "error",
     "traceback": [
      "\u001b[0;31m---------------------------------------------------------------------------\u001b[0m",
      "\u001b[0;31mOpenMMException\u001b[0m                           Traceback (most recent call last)",
      "Cell \u001b[0;32mIn [23], line 1\u001b[0m\n\u001b[0;32m----> 1\u001b[0m \u001b[43msim\u001b[49m\u001b[38;5;241;43m.\u001b[39;49m\u001b[43mcontext\u001b[49m\u001b[38;5;241;43m.\u001b[39;49m\u001b[43msetState\u001b[49m\u001b[43m(\u001b[49m\u001b[43mstate\u001b[49m\u001b[43m)\u001b[49m\n",
      "File \u001b[0;32m~/opt/anaconda3/envs/enhanced-sampling-tmem175/lib/python3.9/site-packages/openmm/openmm.py:2174\u001b[0m, in \u001b[0;36mContext.setState\u001b[0;34m(self, state)\u001b[0m\n\u001b[1;32m   2167\u001b[0m \u001b[38;5;28;01mdef\u001b[39;00m \u001b[38;5;21msetState\u001b[39m(\u001b[38;5;28mself\u001b[39m, state):\n\u001b[1;32m   2168\u001b[0m     \u001b[38;5;124mr\u001b[39m\u001b[38;5;124;03m\"\"\"\u001b[39;00m\n\u001b[1;32m   2169\u001b[0m \u001b[38;5;124;03m    setState(self, state)\u001b[39;00m\n\u001b[1;32m   2170\u001b[0m \u001b[38;5;124;03m    Copy information from a State object into this Context. This restores the Context to approximately the same state it was in when the State was created. If the State does not include a piece of information (e.g. positions or velocities), that aspect of the Context is left unchanged.\u001b[39;00m\n\u001b[1;32m   2171\u001b[0m \n\u001b[1;32m   2172\u001b[0m \u001b[38;5;124;03m    Even when all possible information is included in the State, the effect of calling this method is still less complete than loadCheckpoint(). For example, it does not restore the internal states of random number generators. On the other hand, it has the advantage of not being hardware specific.\u001b[39;00m\n\u001b[1;32m   2173\u001b[0m \u001b[38;5;124;03m    \"\"\"\u001b[39;00m\n\u001b[0;32m-> 2174\u001b[0m     \u001b[38;5;28;01mreturn\u001b[39;00m \u001b[43m_openmm\u001b[49m\u001b[38;5;241;43m.\u001b[39;49m\u001b[43mContext_setState\u001b[49m\u001b[43m(\u001b[49m\u001b[38;5;28;43mself\u001b[39;49m\u001b[43m,\u001b[49m\u001b[43m \u001b[49m\u001b[43mstate\u001b[49m\u001b[43m)\u001b[49m\n",
      "\u001b[0;31mOpenMMException\u001b[0m: Called setParameter() with invalid parameter name: k"
     ]
    }
   ],
   "source": [
    "sim.context.setState(state)"
   ]
  },
  {
   "cell_type": "code",
   "execution_count": 29,
   "id": "238b7d11",
   "metadata": {},
   "outputs": [
    {
     "data": {
      "text/plain": [
       "Quantity(value=Vec3(x=-375.81802341062576, y=2423.5961696812883, z=779.2484754591715), unit=kilojoule/(nanometer*mole))"
      ]
     },
     "execution_count": 29,
     "metadata": {},
     "output_type": "execute_result"
    }
   ],
   "source": [
    "state.getForces()[10]"
   ]
  },
  {
   "cell_type": "code",
   "execution_count": 28,
   "id": "8507fbf0",
   "metadata": {},
   "outputs": [
    {
     "data": {
      "text/plain": [
       "Quantity(value=Vec3(x=1260.809932197677, y=-147.73494797735475, z=-660.6815036782064), unit=kilojoule/(nanometer*mole))"
      ]
     },
     "execution_count": 28,
     "metadata": {},
     "output_type": "execute_result"
    }
   ],
   "source": [
    "psfstate = input_dict[\"state\"]\n",
    "psfstate.getForces()[10]"
   ]
  },
  {
   "cell_type": "markdown",
   "id": "fa88cf63",
   "metadata": {},
   "source": [
    "## see if setting just positions and velocities is different"
   ]
  },
  {
   "cell_type": "code",
   "execution_count": 31,
   "id": "2d953d02",
   "metadata": {},
   "outputs": [],
   "source": [
    "sim.context.reinitialize()"
   ]
  },
  {
   "cell_type": "code",
   "execution_count": 35,
   "id": "d5033c72",
   "metadata": {},
   "outputs": [],
   "source": [
    "sim.context.setPositions(state.getPositions())"
   ]
  },
  {
   "cell_type": "code",
   "execution_count": 36,
   "id": "47448eb2",
   "metadata": {},
   "outputs": [],
   "source": [
    "state02 = sim.context.getState(getForces=True)"
   ]
  },
  {
   "cell_type": "code",
   "execution_count": 39,
   "id": "41d77ea6",
   "metadata": {},
   "outputs": [
    {
     "data": {
      "text/plain": [
       "Quantity(value=Vec3(x=-375.8933460752109, y=2423.488875470829, z=779.2014724831236), unit=kilojoule/(nanometer*mole))"
      ]
     },
     "execution_count": 39,
     "metadata": {},
     "output_type": "execute_result"
    }
   ],
   "source": [
    "state02.getForces()[10]"
   ]
  },
  {
   "cell_type": "code",
   "execution_count": null,
   "id": "a66c2f70",
   "metadata": {},
   "outputs": [],
   "source": []
  }
 ],
 "metadata": {
  "kernelspec": {
   "display_name": "Python 3 (ipykernel)",
   "language": "python",
   "name": "python3"
  },
  "language_info": {
   "codemirror_mode": {
    "name": "ipython",
    "version": 3
   },
   "file_extension": ".py",
   "mimetype": "text/x-python",
   "name": "python",
   "nbconvert_exporter": "python",
   "pygments_lexer": "ipython3",
   "version": "3.9.13"
  },
  "toc": {
   "base_numbering": 1,
   "nav_menu": {},
   "number_sections": true,
   "sideBar": true,
   "skip_h1_title": false,
   "title_cell": "Table of Contents",
   "title_sidebar": "Contents",
   "toc_cell": false,
   "toc_position": {},
   "toc_section_display": true,
   "toc_window_display": false
  }
 },
 "nbformat": 4,
 "nbformat_minor": 5
}
