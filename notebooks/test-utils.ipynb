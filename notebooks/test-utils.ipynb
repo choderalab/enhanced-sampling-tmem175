{
 "cells": [
  {
   "cell_type": "code",
   "execution_count": 7,
   "metadata": {},
   "outputs": [
    {
     "data": {
      "text/plain": [
       "<module 'enhanced_sampling.system_building' from '/Users/alexpayne/Scientific_Projects/enhanced-sampling-tmem175/enhanced_sampling/system_building.py'>"
      ]
     },
     "execution_count": 7,
     "metadata": {},
     "output_type": "execute_result"
    }
   ],
   "source": [
    "import openmm, sys\n",
    "from importlib import reload\n",
    "sys.path.append(\"../../\")\n",
    "from enhanced_sampling import utils, system_building as sb, system_saving as ss\n",
    "reload(sb)"
   ]
  },
  {
   "cell_type": "code",
   "execution_count": 8,
   "metadata": {},
   "outputs": [],
   "source": [
    "sim_params = sb.SimParams(\"../sim_params/local_test.yaml\")"
   ]
  },
  {
   "cell_type": "code",
   "execution_count": 10,
   "metadata": {},
   "outputs": [
    {
     "name": "stdout",
     "output_type": "stream",
     "text": [
      "<enhanced_sampling.system_building.SimParams object at 0x1186f0c40>\n"
     ]
    }
   ],
   "source": [
    "print(sim_params)"
   ]
  },
  {
   "cell_type": "code",
   "execution_count": 11,
   "metadata": {},
   "outputs": [
    {
     "data": {
      "text/plain": [
       "{'hydrogen_mass': Quantity(value=4.0, unit=dalton),\n",
       " 'temperature': Quantity(value=303.15, unit=kelvin),\n",
       " 'friction': Quantity(value=1, unit=/picosecond),\n",
       " 'time_step': Quantity(value=0.002, unit=picosecond),\n",
       " 'pressure': Quantity(value=1, unit=bar),\n",
       " 'surface_tension': 0,\n",
       " 'nonbonded_method': PME,\n",
       " 'constraints': HBonds,\n",
       " 'nsteps': 500,\n",
       " 'report_freq': 100,\n",
       " 'chk_freq': 500,\n",
       " 'traj_freq': 100,\n",
       " 'virtual_bond': ['resSeq 46 and name CA and chainid 0',\n",
       "  'resSeq 46 and name CA and chainid 1'],\n",
       " 'platform': 'CPU',\n",
       " 'precision': 'mixed'}"
      ]
     },
     "execution_count": 11,
     "metadata": {},
     "output_type": "execute_result"
    }
   ],
   "source": [
    "sim_params.__dict__"
   ]
  },
  {
   "cell_type": "code",
   "execution_count": 13,
   "metadata": {},
   "outputs": [
    {
     "data": {
      "text/plain": [
       "int"
      ]
     },
     "execution_count": 13,
     "metadata": {},
     "output_type": "execute_result"
    }
   ],
   "source": [
    "type(sim_params.chk_freq)"
   ]
  },
  {
   "cell_type": "code",
   "execution_count": 14,
   "metadata": {},
   "outputs": [
    {
     "data": {
      "text/plain": [
       "Quantity(value=4.0, unit=dalton)"
      ]
     },
     "execution_count": 14,
     "metadata": {},
     "output_type": "execute_result"
    }
   ],
   "source": [
    "sim_params.hydrogen_mass"
   ]
  },
  {
   "cell_type": "code",
   "execution_count": 15,
   "metadata": {},
   "outputs": [
    {
     "data": {
      "text/plain": [
       "500"
      ]
     },
     "execution_count": 15,
     "metadata": {},
     "output_type": "execute_result"
    }
   ],
   "source": [
    "sim_params.nsteps"
   ]
  },
  {
   "cell_type": "code",
   "execution_count": 38,
   "metadata": {},
   "outputs": [],
   "source": [
    "repr_list = [f\"{key:20}: {value}\" for key, value, in sim_params.__dict__.items()]\n",
    "repr_string = \"\\n\".join(repr_str)"
   ]
  },
  {
   "cell_type": "code",
   "execution_count": 39,
   "metadata": {},
   "outputs": [
    {
     "name": "stdout",
     "output_type": "stream",
     "text": [
      "hydrogen_mass       : 4.0 Da\n",
      "temperature         : 303.15 K\n",
      "friction            : 1 /ps\n",
      "time_step           : 0.002 ps\n",
      "pressure            : 1 bar\n",
      "surface_tension     : 0\n",
      "nonbonded_method    : PME\n",
      "constraints         : HBonds\n",
      "nsteps              : 500\n",
      "report_freq         : 100\n",
      "chk_freq            : 500\n",
      "traj_freq           : 100\n",
      "virtual_bond        : ['resSeq 46 and name CA and chainid 0', 'resSeq 46 and name CA and chainid 1']\n",
      "platform            : CPU\n",
      "precision           : mixed\n"
     ]
    }
   ],
   "source": [
    "print(repr_string)"
   ]
  },
  {
   "cell_type": "code",
   "execution_count": null,
   "metadata": {},
   "outputs": [],
   "source": []
  }
 ],
 "metadata": {
  "kernelspec": {
   "display_name": "Python 3 (ipykernel)",
   "language": "python",
   "name": "python3"
  },
  "language_info": {
   "codemirror_mode": {
    "name": "ipython",
    "version": 3
   },
   "file_extension": ".py",
   "mimetype": "text/x-python",
   "name": "python",
   "nbconvert_exporter": "python",
   "pygments_lexer": "ipython3",
   "version": "3.9.13"
  },
  "toc": {
   "base_numbering": 1,
   "nav_menu": {},
   "number_sections": true,
   "sideBar": true,
   "skip_h1_title": false,
   "title_cell": "Table of Contents",
   "title_sidebar": "Contents",
   "toc_cell": false,
   "toc_position": {},
   "toc_section_display": true,
   "toc_window_display": false
  }
 },
 "nbformat": 4,
 "nbformat_minor": 1
}